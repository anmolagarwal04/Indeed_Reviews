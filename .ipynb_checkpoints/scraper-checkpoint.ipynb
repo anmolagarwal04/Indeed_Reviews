{
 "cells": [
  {
   "cell_type": "markdown",
   "metadata": {},
   "source": [
    "### Import Libraries"
   ]
  },
  {
   "cell_type": "code",
   "execution_count": null,
   "metadata": {},
   "outputs": [],
   "source": [
    "from bs4 import BeautifulSoup\n",
    "import requests\n",
    "import csv\n",
    "import time"
   ]
  },
  {
   "cell_type": "code",
   "execution_count": null,
   "metadata": {},
   "outputs": [],
   "source": [
    "import pandas as pd\n",
    "df =pd.read_csv('Reviews/reviews_un.csv')"
   ]
  },
  {
   "cell_type": "code",
   "execution_count": null,
   "metadata": {},
   "outputs": [],
   "source": [
    "df.drop_duplicates(subset = 'Text',keep=False)"
   ]
  },
  {
   "cell_type": "markdown",
   "metadata": {},
   "source": [
    "### Comapnies and their NASDAQ Symbol"
   ]
  },
  {
   "cell_type": "code",
   "execution_count": null,
   "metadata": {},
   "outputs": [],
   "source": [
    "#Scraping 200 onwards\n",
    "#201-210\n",
    "companies = ['SuperValu','Colgate--Palmolive','Goodyear','Paypal','Ppg-industries','Omnicom-Group','Celgene-Corporation','Jacobs','Ross-Dress-For-Less','Marsh-&-Mclennan-Companies']\n",
    "symbol = {'SuperValu':'SVU','Colgate--Palmolive':'CL','Goodyear':'GT','Paypal':'PYPL','Ppg-industries':'PPG','Omnicom-Group':'OMC','Celgene-Corporation':'CELG','Jacobs':'J','Ross-Dress-For-Less':'ROST','Marsh-&-Mclennan-Companies':'MMC'}\n",
    "\n",
    "companies = ['Marsh-&-Mclennan-Companies']\n",
    "symbol = {'Marsh-&-Mclennan-Companies':'MMC'}\n",
    "\n",
    "\n"
   ]
  },
  {
   "cell_type": "code",
   "execution_count": null,
   "metadata": {},
   "outputs": [],
   "source": [
    "#211-220\n",
    "companies = ['Mastercard','Land-O’lakes,-Inc.','Waste-Management-1','Itw','Ecolab',\n",
    "             'Booking-Holdings','CBS','Parker-Hannifin','Principal-Financial-Group','Dte-Energy']\n",
    "symbol = {'Mastercard':'MA','Land-O’lakes,-Inc.':float('NaN'),'Waste-Management-1':'WM','Itw':'ITW',\n",
    "          'Ecolab':'ECL','Booking-Holdings':'BKNG','CBS':'VIAC','Parker-Hannifin':'PH',\n",
    "          'Principal-Financial-Group':'PFG','Dte-Energy':'DTE'}\n",
    "\n",
    "companies = ['CBS','Parker-Hannifin','Principal-Financial-Group','Dte-Energy']\n",
    "symbol = {'CBS':'VIAC','Parker-Hannifin':'PH',\n",
    "          'Principal-Financial-Group':'PFG','Dte-Energy':'DTE'}\n",
    "          \n",
    "          \n",
    "        "
   ]
  },
  {
   "cell_type": "code",
   "execution_count": null,
   "metadata": {},
   "outputs": [],
   "source": [
    "#221-226\n",
    "companies = ['Blackrock-Inc.','United-States-Steel','Community-Health-Systems','Kinder-Morgan',\n",
    "             'Loews-Corporation']\n",
    "symbol = {'Blackrock-Inc.':'BLK','United-States-Steel':'X','Community-Health-Systems':'CYH','Kinder-Morgan':'KMI',\n",
    "          'Loews-Corporation':'L'}"
   ]
  },
  {
   "cell_type": "code",
   "execution_count": null,
   "metadata": {},
   "outputs": [],
   "source": [
    "#227-230\n",
    "companies = ['Arconic','Stanley-Black-&-Decker','Textron','Las-Vegas-Sands-Corp.']\n",
    "symbol = {'Arconic':'ARNC','Stanley-Black-&-Decker':'SWK','Textron':'TXT','Las-Vegas-Sands-Corp.':'LVS'}"
   ]
  },
  {
   "cell_type": "code",
   "execution_count": null,
   "metadata": {},
   "outputs": [],
   "source": [
    "#231-236\n",
    "companies = ['The-Estée-Lauder-Companies-1','Dish','Stryker','Kellogg-Company','Biogen','Alcoa']\n",
    "symbol = {'The-Estée-Lauder-Companies-1':'EL','Dish':'Dish','Stryker':'SYK','Kellogg-Company':'K','Biogen':'BIIB','Alcoa':'AA'}"
   ]
  },
  {
   "cell_type": "code",
   "execution_count": null,
   "metadata": {},
   "outputs": [],
   "source": [
    "#237-250\n",
    "companies = ['Anadarko-Petroleum-Corporation','Dominion-Energy','ADP','Salesforce',\n",
    "             'L-Brands','Henry-Schein','Newell-Brands','Guardian-Life-Insurance-Company',\"Bj's-Wholesale-Club\",\n",
    "             'Bb&T-Corp.','State-Street','Viacom','Ameriprise-Financial','Core--mark-International,-Inc.']\n",
    "symbol = {'Anadarko-Petroleum-Corporation':'APC','Dominion-Energy':'D','ADP':'ADP','Salesforce':'CRM',\n",
    "          'L-Brands':'LB','Henry-Schein':'HSIC','Newell-Brands':'NWL','Guardian-Life-Insurance-Company':float('NaN'),\n",
    "         \"Bj's-Wholesale-Club\":'BJ','Bb&T-Corp.':float('NaN'),'State-Street':'STT','Viacom':'VIAB',\n",
    "         'Ameriprise-Financial':'AMP','Core--mark-International,-Inc.':'CORE'}\n",
    "\n",
    "companies = ['State-Street','Viacom','Ameriprise-Financial','Core--mark-International,-Inc.']\n",
    "symbol = {'State-Street':'STT','Viacom':'VIAB',\n",
    "         'Ameriprise-Financial':'AMP','Core--mark-International,-Inc.':'CORE'}"
   ]
  },
  {
   "cell_type": "code",
   "execution_count": null,
   "metadata": {},
   "outputs": [],
   "source": [
    "#251-260\n",
    "companies = ['Reinsurance-Group-of-America','Vf-Corporation','Discover-Financial-Services','Global-Partners',\n",
    "            'Edison-International','Oneok','Murphy-USA','Bed-Bath-&-Beyond','Con-Edison','CSX']\n",
    "symbol = {'Reinsurance-Group-of-America':'RGA','Vf-Corporation':'VFC','Discover-Financial-Services':'DFS',\n",
    "          'Global-Partners':'GLP','Edison-International':'EIX','Oneok':'OKE','Murphy-USA':'MUSA',\n",
    "          'Bed-Bath-&-Beyond':'BBBY','Con-Edison':'ED','CSX':'CSX'}"
   ]
  },
  {
   "cell_type": "code",
   "execution_count": null,
   "metadata": {},
   "outputs": [],
   "source": [
    "#260-270\n",
    "companies = ['Jcpenney','Lkq-Corporation','Firstenergy','Steel-Dynamics','Lithia-Motors,-Inc.',\n",
    "             'Mgm-Resorts-International','Tenneco','Nvidia','Sempra-Energy','Farmers-Insurance-Group']\n",
    "symbol = {'Jcpenney':'JCP','Lkq-Corporation':'LKQ','Firstenergy':'FE','Steel-Dynamics':'STLD',\n",
    "          'Lithia-Motors,-Inc.':'LAD','Mgm-Resorts-International':'MGM','Tenneco':'TEN',\n",
    "          'Nvidia':'NVDA','Sempra-Energy':'SRE','Farmers-Insurance-Group':'ZURN'}"
   ]
  },
  {
   "cell_type": "markdown",
   "metadata": {},
   "source": [
    "### Script to Scrape Reviews"
   ]
  },
  {
   "cell_type": "code",
   "execution_count": null,
   "metadata": {},
   "outputs": [],
   "source": [
    "for number,company in enumerate(companies):\n",
    "    filename = 'Reviews/'+ str(number+224)+'_'+company+'.csv'\n",
    "    csv_file = open(filename,'w')\n",
    "    csv_writer = csv.writer(csv_file)\n",
    "    csv_writer.writerow(['Review_title','Review_Star','Designation','Location','Date','Text','Helpful_Yes','Helpful_No','Company'])\n",
    "    print(company)\n",
    "    time.sleep(0.02)\n",
    "    url = 'https://www.indeed.co.in/cmp/'+ company + '/reviews?fcountry=ALL&start='\n",
    "    page =0\n",
    "    i =0\n",
    "    flag = 0\n",
    "    while(True):\n",
    "        url = url +str(i)\n",
    "        time.sleep(0.05)\n",
    "        source = requests.get(url).text\n",
    "        soup = BeautifulSoup(source,'lxml')\n",
    "        try:   \n",
    "            cur_page = soup.find('span', class_='cmp-Pagination-currentButton')\n",
    "            print(cur_page.text)\n",
    "            if(cur_page.text == '1'):\n",
    "                page+=1\n",
    "                print(page)\n",
    "            if(page == 2):\n",
    "                break\n",
    "        except Exception as e:\n",
    "            flag+=1\n",
    "            if(flag>10):\n",
    "                break\n",
    "            print(Exception)\n",
    "            pass \n",
    "        reviews =0\n",
    "        title=[]\n",
    "        rating=[]\n",
    "        designation = []\n",
    "        location = []\n",
    "        date = []\n",
    "        details=[]\n",
    "        review=[]\n",
    "        pros=[]\n",
    "        cons=[]\n",
    "        helpful_y =[]\n",
    "        helpful_n = []\n",
    "        company_name =[]\n",
    "        symbol_name =[]\n",
    "        for article in soup.find_all('div', class_='cmp-Review-title'):\n",
    "            reviews+=1\n",
    "            if(i!=0 and reviews ==1):\n",
    "                continue\n",
    "            #print(article.text)\n",
    "            title.append(article.text)\n",
    "        reviews =0\n",
    "        for article in soup.find_all('div', class_='cmp-ReviewRating-text'):\n",
    "            reviews+=1\n",
    "            if(i!=0 and reviews ==1):\n",
    "                continue\n",
    "            #print(article.text)\n",
    "            rating.append(article.text)\n",
    "        reviews =0\n",
    "        for article in soup.find_all('div', class_='cmp-Review-author'):\n",
    "            reviews+=1\n",
    "            if(i!=0 and reviews ==1):\n",
    "                continue\n",
    "            details = article.text.split('-')\n",
    "            #print(details[0])\n",
    "\n",
    "            designation.append(details[0])\n",
    "            if(len(details)==2):\n",
    "                date.append(details[1])\n",
    "            else:\n",
    "                location.append(details[1])\n",
    "                date.append(details[2])\t\n",
    "        reviews =0\n",
    "        for article in soup.find_all('div', class_='cmp-Review-text'):\n",
    "            reviews+=1\n",
    "            if(i!=0 and reviews ==1):\n",
    "                continue\n",
    "            review.append(article.span.text)\n",
    "        for article in soup.find_all('button', class_='icl-Button icl-Button--tertiary icl-Button--sm icl-Button--group'):\n",
    "            #print(len(article.text))\n",
    "            reviews+=1\n",
    "            if(i!=0 and reviews ==1):\n",
    "                continue\n",
    "            #print(article.span.text)\n",
    "            if(len(article.text)>3):\n",
    "                helpful_y.append((article.text)[3:])\n",
    "            else:\n",
    "                helpful_y.append('0')\n",
    "            if( (article.text)[0:2] == 'No' and len(article.text)>2):\n",
    "                #print(article.text)\n",
    "                helpful_n.append((article.text)[2:])\n",
    "            else:\n",
    "                helpful_n.append('0')\n",
    "            company_name.append(company)\n",
    "#             symbol_name.append(symbol[company])\n",
    "        # for article in soup.find_all('button', class_='icl-Button icl-Button--tertiary icl-Button--sm icl-Button--group'):\n",
    "        # \treviews+=1\n",
    "        # \tif(i!=0 and reviews ==1):\n",
    "        # \t\tcontinue\n",
    "        # \thelpful_n.append(article.span.text)\n",
    "        # \tcompany.append('Wells-Fargo')\n",
    "\n",
    "        #print(company)\n",
    "\n",
    "\n",
    "        #time.sleep(0.02)\n",
    "        url = 'https://www.indeed.co.in/cmp/'+ company + '/reviews?fcountry=ALL&start='\n",
    "        i = i+20\t\n",
    "        data = [title,rating,designation,location,date,review,helpful_y,helpful_n,company_name]\n",
    "        data1 = zip(*data)\n",
    "        # print(data)\n",
    "        # data = zip(*data)\n",
    "        data = list(data1)\n",
    "        #print(data[0])\n",
    "        csv_writer.writerows(data)\n",
    "    csv_file.close()\n",
    "\n",
    "\n"
   ]
  },
  {
   "cell_type": "code",
   "execution_count": null,
   "metadata": {},
   "outputs": [],
   "source": [
    "csv_file.close()"
   ]
  },
  {
   "cell_type": "code",
   "execution_count": null,
   "metadata": {},
   "outputs": [],
   "source": [
    "companies=['IBM', 'Albertsons', 'Merck', 'Nucor', 'Walt Disney',\n",
    "       'Analog Devices', 'ConocoPhillips', 'Fannie Mae', 'XOM',\n",
    "       'Bristol-Myers Squibb', 'CenturyLink', 'PG&E', 'Coca-Cola',\n",
    "       'Union Pacific', 'Southern', 'Lincoln National', 'Tech Data',\n",
    "       'Progressive', 'Marathon Oil', 'Applied Materials', 'Seaboard',\n",
    "       'XPO Logistics', 'Honeywell International', 'Cisco Systems',\n",
    "       'Phillips 66', 'TJX', 'Marriott International', 'Netflix',\n",
    "       'Freeport-McMoRan', 'Ameren', 'General Motors', 'Sysco',\n",
    "       'EOG Resources', 'Deere', 'Amazon', 'Genuine Parts', 'Cintas',\n",
    "       'Charter Communications', 'Starbucks', 'CVS Health',\n",
    "       'Bank of America', 'United Parcel Service', 'FedEx',\n",
    "       'International Paper', 'Marathon Petroleum', 'Dollar General',\n",
    "       'Halliburton', 'Raytheon', 'PepsiCo', 'StateFarm', 'Dillards',\n",
    "       'Prudential Financial', 'Hartford Financial Services',\n",
    "       'Intercontinental Exchange', 'Centene', 'AT&T',\n",
    "       'Walgreens Boots Alliance', 'Energy Transfer', 'Gap',\n",
    "       'Freddie Mac', 'Tenet Healthcare', 'Archer Daniels Midland',\n",
    "       'Advanced Micro Devices', 'CDW', 'USAA', 'CarMax', 'Boeing',\n",
    "       'Dollar Tree', 'Morgan Stanley', 'Publix Super Markets',\n",
    "       'Becton Dickinson', 'Tyson Foods', 'DaVita',\n",
    "       'C.H. Robinson Worldwide', 'Kimberly-Clark', 'S&P Global',\n",
    "       'Burlington Stores', 'AIG', 'Humana', 'Cardinal Health',\n",
    "       'American Express', 'Chevron', 'Performance Food Group',\n",
    "       'Northwestern Mutual', 'Sherwin-Williams', 'Cigna', 'Facebook',\n",
    "       'American Electric Power', 'CHS', 'Franklin Resources', 'Lowes',\n",
    "       'Lear', 'Molina Healthcare', 'Aramark', 'World Fuel Services',\n",
    "       'American Airlines Group', 'Amerisourcebergen',\n",
    "       'Polaris Industries', 'HCA Healthcare', 'PBF Energy', 'Kohls',\n",
    "       'Oracle', 'MetLife', 'General Mills', 'AutoNation',\n",
    "       'Texas Instruments', 'Cummins', 'Aflac', 'WestRock', 'Citigroup',\n",
    "       'McDonalds', 'Lennar', 'Goldman Sachs', 'Jones Lang LaSalle',\n",
    "       'Delta Air Lines', 'Synnex', 'UnitedHealth Group',\n",
    "       'Rockwell Automation', 'PNC Financial Services', 'Paccar',\n",
    "       'JPMorgan Chase', 'CBRE Group']"
   ]
  },
  {
   "cell_type": "code",
   "execution_count": null,
   "metadata": {},
   "outputs": [],
   "source": []
  }
 ],
 "metadata": {
  "kernelspec": {
   "display_name": "Python 3",
   "language": "python",
   "name": "python3"
  },
  "language_info": {
   "codemirror_mode": {
    "name": "ipython",
    "version": 3
   },
   "file_extension": ".py",
   "mimetype": "text/x-python",
   "name": "python",
   "nbconvert_exporter": "python",
   "pygments_lexer": "ipython3",
   "version": "3.7.7"
  }
 },
 "nbformat": 4,
 "nbformat_minor": 4
}
